{
 "cells": [
  {
   "cell_type": "code",
   "execution_count": null,
   "metadata": {},
   "outputs": [],
   "source": [
    "# 191327\n",
    "# Cosio (Angelina \"Andie\")\n",
    "# 2 BS ITE"
   ]
  },
  {
   "cell_type": "code",
   "execution_count": 2,
   "metadata": {},
   "outputs": [
    {
     "name": "stdout",
     "output_type": "stream",
     "text": [
      "Enter first number: 1\n",
      "Enter second number: 2\n",
      "Enter third number: 3\n",
      "The average is 2 .\n"
     ]
    }
   ],
   "source": [
    "import statistics\n",
    "\n",
    "x = int(input('Enter first number: '))\n",
    "y = int(input('Enter second number: '))\n",
    "z = int(input('Enter third number: '))\n",
    "\n",
    "numbers = [x, y, z]\n",
    "average = statistics.mean(numbers)\n",
    "\n",
    "print('The average is ' + str(average),'.')"
   ]
  },
  {
   "cell_type": "code",
   "execution_count": null,
   "metadata": {},
   "outputs": [],
   "source": []
  }
 ],
 "metadata": {
  "kernelspec": {
   "display_name": "Python 3",
   "language": "python",
   "name": "python3"
  },
  "language_info": {
   "codemirror_mode": {
    "name": "ipython",
    "version": 3
   },
   "file_extension": ".py",
   "mimetype": "text/x-python",
   "name": "python",
   "nbconvert_exporter": "python",
   "pygments_lexer": "ipython3",
   "version": "3.8.3"
  }
 },
 "nbformat": 4,
 "nbformat_minor": 4
}
